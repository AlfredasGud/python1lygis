{
  "nbformat": 4,
  "nbformat_minor": 0,
  "metadata": {
    "colab": {
      "name": "Duomenų analizė vizualizacija.ipynb",
      "provenance": [],
      "collapsed_sections": []
    },
    "kernelspec": {
      "name": "python3",
      "display_name": "Python 3"
    }
  },
  "cells": [
    {
      "cell_type": "markdown",
      "metadata": {
        "id": "PktkthmJM0jH",
        "colab_type": "text"
      },
      "source": [
        "**Duomenų analizė (su PANDAS)**"
      ]
    },
    {
      "cell_type": "markdown",
      "metadata": {
        "id": "MmhotYXHM5e9",
        "colab_type": "text"
      },
      "source": [
        "Pandas dirba su duomenų paketais (DataFrame)\n",
        "Duomenų paketus galima susikurti iš (ir išsaugoti į):\n",
        "\n",
        "\n",
        "*   Žodynų\n",
        "*   Excel failų\n",
        "*   .csv failų\n",
        "*   Pickle failų\n",
        "*   Duomenų bazių\n",
        "*   ..."
      ]
    },
    {
      "cell_type": "markdown",
      "metadata": {
        "id": "o2BJ-lEGPs29",
        "colab_type": "text"
      },
      "source": [
        "**Kaip susikurti DataFrame iš tekstinio (csv) failo:**"
      ]
    },
    {
      "cell_type": "code",
      "metadata": {
        "id": "p6wft6z_Pwh5",
        "colab_type": "code",
        "colab": {}
      },
      "source": [
        "import pandas as pd\n",
        "\n",
        "df = pd.read_csv('countries.csv', delimiter='\\t')\n",
        "\n",
        "print(df)"
      ],
      "execution_count": 0,
      "outputs": []
    },
    {
      "cell_type": "markdown",
      "metadata": {
        "id": "CbryyS81P1Ku",
        "colab_type": "text"
      },
      "source": [
        "**Kaip susikurti DataFrame iš duomenų bazės:**"
      ]
    },
    {
      "cell_type": "code",
      "metadata": {
        "id": "jJqHynp5P2Sr",
        "colab_type": "code",
        "colab": {}
      },
      "source": [
        "import pandas as pd\n",
        "from sqlalchemy import create_engine\n",
        "\n",
        "engine = create_engine('sqlite:///darbuotojai3.db')\n",
        "df = pd.read_sql_table(\"DARBUOTOJAS\", engine)\n",
        "\n",
        "df"
      ],
      "execution_count": 0,
      "outputs": []
    },
    {
      "cell_type": "markdown",
      "metadata": {
        "id": "_IoTytawRSIx",
        "colab_type": "text"
      },
      "source": [
        "**Kaip sukurti Pandas duomenų paketą (DataFrame) iš žodyno:**"
      ]
    },
    {
      "cell_type": "code",
      "metadata": {
        "id": "_NnT_0KtRT88",
        "colab_type": "code",
        "colab": {}
      },
      "source": [
        "import pandas as pd\n",
        "orai = {\n",
        "'data': ['7/1/2019', '7/2/2019',\n",
        "'7/3/2019','7/4/2019','7/5/2019'],\n",
        "'temperatura': [32, 35, 28, 24, 22],\n",
        "'vejas': [6,7,2,4,5],\n",
        "'oras': ['Lietus', 'Saulėta',\n",
        "'Saulėta','Saulėta','Debesuota']\n",
        "}\n",
        "\n",
        "df = pd.DataFrame(orai)\n",
        "df"
      ],
      "execution_count": 0,
      "outputs": []
    },
    {
      "cell_type": "markdown",
      "metadata": {
        "id": "Fv9YwbZRRbsZ",
        "colab_type": "text"
      },
      "source": [
        "**Kaip atspausdinti lentelės stulpelio max, min, vidurkį:**"
      ]
    },
    {
      "cell_type": "code",
      "metadata": {
        "id": "ixxCiXOoRdhO",
        "colab_type": "code",
        "colab": {}
      },
      "source": [
        "print(df['temperatura'].max())\n",
        "print(df['temperatura'].min())\n",
        "print(df['temperatura'].mean())"
      ],
      "execution_count": 0,
      "outputs": []
    },
    {
      "cell_type": "markdown",
      "metadata": {
        "id": "kJmyLpDSRiY1",
        "colab_type": "text"
      },
      "source": [
        "**Kaip gauti lentelės dydį:**"
      ]
    },
    {
      "cell_type": "code",
      "metadata": {
        "id": "fRsc0QulRjyZ",
        "colab_type": "code",
        "colab": {}
      },
      "source": [
        "print(df.shape)\n",
        "rows, columns = df.shape\n",
        "print(rows)\n",
        "print(columns)"
      ],
      "execution_count": 0,
      "outputs": []
    },
    {
      "cell_type": "markdown",
      "metadata": {
        "id": "Tpwj0JZDRp8l",
        "colab_type": "text"
      },
      "source": [
        "**Kaip atspausdinti dalį lentelės:**"
      ]
    },
    {
      "cell_type": "markdown",
      "metadata": {
        "id": "taqW5kDrR7hT",
        "colab_type": "text"
      },
      "source": [
        "Pirmos penkios eilutės:"
      ]
    },
    {
      "cell_type": "code",
      "metadata": {
        "id": "Ydl4HA1IRsPv",
        "colab_type": "code",
        "colab": {}
      },
      "source": [
        "df.head()"
      ],
      "execution_count": 0,
      "outputs": []
    },
    {
      "cell_type": "markdown",
      "metadata": {
        "id": "krnBv6KJR_OF",
        "colab_type": "text"
      },
      "source": [
        "Pirmos dvi eilutės:"
      ]
    },
    {
      "cell_type": "code",
      "metadata": {
        "id": "9CDxXyKKRwiu",
        "colab_type": "code",
        "colab": {}
      },
      "source": [
        "df.head(2)"
      ],
      "execution_count": 0,
      "outputs": []
    },
    {
      "cell_type": "markdown",
      "metadata": {
        "id": "Wdn4j7oqSDP5",
        "colab_type": "text"
      },
      "source": [
        "Paskutinė eilutė:"
      ]
    },
    {
      "cell_type": "code",
      "metadata": {
        "id": "4eQ-2SzjR24O",
        "colab_type": "code",
        "colab": {}
      },
      "source": [
        "df.tail(1)"
      ],
      "execution_count": 0,
      "outputs": []
    },
    {
      "cell_type": "markdown",
      "metadata": {
        "id": "JTYzV1WOSWm4",
        "colab_type": "text"
      },
      "source": [
        "Nuo 1 iki 3 eilutės:"
      ]
    },
    {
      "cell_type": "code",
      "metadata": {
        "id": "jefW7PzPSXaV",
        "colab_type": "code",
        "colab": {}
      },
      "source": [
        "df[1:3]"
      ],
      "execution_count": 0,
      "outputs": []
    },
    {
      "cell_type": "markdown",
      "metadata": {
        "id": "sG838hgmSaxC",
        "colab_type": "text"
      },
      "source": [
        "Nuo 3 iki paskutinės eilutės:"
      ]
    },
    {
      "cell_type": "code",
      "metadata": {
        "id": "9p5CU9ITSchS",
        "colab_type": "code",
        "colab": {}
      },
      "source": [
        "df[2:]"
      ],
      "execution_count": 0,
      "outputs": []
    },
    {
      "cell_type": "markdown",
      "metadata": {
        "id": "05eoHpFVUTy9",
        "colab_type": "text"
      },
      "source": [
        "**Kaip atspausdinti norimą elementą:**"
      ]
    },
    {
      "cell_type": "code",
      "metadata": {
        "id": "WnU4DzgxUZy6",
        "colab_type": "code",
        "colab": {}
      },
      "source": [
        "df.iloc[2]"
      ],
      "execution_count": 0,
      "outputs": []
    },
    {
      "cell_type": "code",
      "metadata": {
        "id": "vengYVT9UgqR",
        "colab_type": "code",
        "colab": {}
      },
      "source": [
        "df.iloc[2:4]"
      ],
      "execution_count": 0,
      "outputs": []
    },
    {
      "cell_type": "markdown",
      "metadata": {
        "id": "SuvvsVXzU4-E",
        "colab_type": "text"
      },
      "source": [
        "**Kaip atspausdinti konkrečią vietą pagal koordinates:**"
      ]
    },
    {
      "cell_type": "code",
      "metadata": {
        "id": "uj_cvhVyU6MV",
        "colab_type": "code",
        "colab": {}
      },
      "source": [
        "df.iloc[3,1]"
      ],
      "execution_count": 0,
      "outputs": []
    },
    {
      "cell_type": "markdown",
      "metadata": {
        "id": "gJVG0RYCSgR3",
        "colab_type": "text"
      },
      "source": [
        "**Kaip atspausdinti stulpelių pavadinimus:**"
      ]
    },
    {
      "cell_type": "code",
      "metadata": {
        "id": "pqCdi-4aSjS7",
        "colab_type": "code",
        "colab": {}
      },
      "source": [
        "print(df.columns)"
      ],
      "execution_count": 0,
      "outputs": []
    },
    {
      "cell_type": "markdown",
      "metadata": {
        "id": "fEqG3CFBTMTr",
        "colab_type": "text"
      },
      "source": [
        "**Kaip atspausdinti konkretų (-ius) stulpelį (-ius):**"
      ]
    },
    {
      "cell_type": "code",
      "metadata": {
        "id": "IzJSYNZJTOGx",
        "colab_type": "code",
        "colab": {}
      },
      "source": [
        "df.data"
      ],
      "execution_count": 0,
      "outputs": []
    },
    {
      "cell_type": "code",
      "metadata": {
        "id": "BlFkjrZMTq9x",
        "colab_type": "code",
        "colab": {}
      },
      "source": [
        "df[['data', 'temperatura']]"
      ],
      "execution_count": 0,
      "outputs": []
    },
    {
      "cell_type": "code",
      "metadata": {
        "id": "O--O-lBNT9N0",
        "colab_type": "code",
        "colab": {}
      },
      "source": [
        "df.data[3:5]"
      ],
      "execution_count": 0,
      "outputs": []
    },
    {
      "cell_type": "markdown",
      "metadata": {
        "id": "F8_z7OXzVS6t",
        "colab_type": "text"
      },
      "source": [
        "**Kaip iteruoti per visą DataFrame'ą:**"
      ]
    },
    {
      "cell_type": "code",
      "metadata": {
        "id": "6mqcyu6UVUrq",
        "colab_type": "code",
        "colab": {}
      },
      "source": [
        "for index, row in df.iterrows():\n",
        "  print(index, row)"
      ],
      "execution_count": 0,
      "outputs": []
    },
    {
      "cell_type": "markdown",
      "metadata": {
        "id": "Hx8-nAFVVofE",
        "colab_type": "text"
      },
      "source": [
        "**Kaip filtruoti duomenis DataFrame’e:**"
      ]
    },
    {
      "cell_type": "code",
      "metadata": {
        "id": "DbR0TwRMVpo_",
        "colab_type": "code",
        "colab": {}
      },
      "source": [
        "df.loc[df['temperatura'] > 22]"
      ],
      "execution_count": 0,
      "outputs": []
    },
    {
      "cell_type": "markdown",
      "metadata": {
        "id": "bIslHjdiV3Kd",
        "colab_type": "text"
      },
      "source": [
        "**Kaip surūšiuoti duomenis:**"
      ]
    },
    {
      "cell_type": "code",
      "metadata": {
        "id": "lx3VpkXRV5mk",
        "colab_type": "code",
        "colab": {}
      },
      "source": [
        "df.sort_values('temperatura', ascending=False)"
      ],
      "execution_count": 0,
      "outputs": []
    },
    {
      "cell_type": "markdown",
      "metadata": {
        "id": "rh5sWHFtWTa4",
        "colab_type": "text"
      },
      "source": [
        "**Kaip ieškoti pagal stringo dalį:**"
      ]
    },
    {
      "cell_type": "code",
      "metadata": {
        "id": "veza4Ye6WXld",
        "colab_type": "code",
        "colab": {}
      },
      "source": [
        "df.loc[df['oras'].str.contains('Saulė')]"
      ],
      "execution_count": 0,
      "outputs": []
    },
    {
      "cell_type": "markdown",
      "metadata": {
        "id": "ThnAGIOKW_nw",
        "colab_type": "text"
      },
      "source": [
        "**Kaip grupuoti duomenis:**"
      ]
    },
    {
      "cell_type": "markdown",
      "metadata": {
        "id": "ecfj9eeoXCHY",
        "colab_type": "text"
      },
      "source": [
        "Galima naudoti funkcijas count, sum, min, max, mean\n",
        "\n",
        "Darbuotojai sugrupuoti pagal pareigas, surūšiuota pagal daugiausiai\n",
        "išdirbančių darbuotojų vidurkius:"
      ]
    },
    {
      "cell_type": "code",
      "metadata": {
        "id": "mx3RjtxSXAfN",
        "colab_type": "code",
        "colab": {}
      },
      "source": [
        "df.groupby(['oras']).mean().sort_values('temperatura',\n",
        "ascending=False)"
      ],
      "execution_count": 0,
      "outputs": []
    },
    {
      "cell_type": "code",
      "metadata": {
        "id": "1ebO-8LiXS7D",
        "colab_type": "code",
        "colab": {}
      },
      "source": [
        "df.groupby(['oras']).count()['data']"
      ],
      "execution_count": 0,
      "outputs": []
    },
    {
      "cell_type": "markdown",
      "metadata": {
        "id": "CvSP-QbjTvi-",
        "colab_type": "text"
      },
      "source": [
        "**Kaip atspausdinti lentelės ataskaitą:**"
      ]
    },
    {
      "cell_type": "code",
      "metadata": {
        "id": "eAz7HR3mTwxV",
        "colab_type": "code",
        "colab": {}
      },
      "source": [
        "df.describe()"
      ],
      "execution_count": 0,
      "outputs": []
    },
    {
      "cell_type": "markdown",
      "metadata": {
        "id": "TPNuY3HsXoyc",
        "colab_type": "text"
      },
      "source": [
        "**Kaip eksportuoti DataFrame į Excel arba tekstinį failą:**"
      ]
    },
    {
      "cell_type": "code",
      "metadata": {
        "id": "iI_M3mHOXqKs",
        "colab_type": "code",
        "colab": {}
      },
      "source": [
        "df.to_excel('modifikuotas.xlsx', index=False)"
      ],
      "execution_count": 0,
      "outputs": []
    },
    {
      "cell_type": "code",
      "metadata": {
        "id": "OsZ1RoYBXw-i",
        "colab_type": "code",
        "colab": {}
      },
      "source": [
        "df.to_csv('modifikuotas.txt', index=False, sep='\\t')"
      ],
      "execution_count": 0,
      "outputs": []
    },
    {
      "cell_type": "markdown",
      "metadata": {
        "id": "4brQgCczT8Uw",
        "colab_type": "text"
      },
      "source": [
        "**Grafikų atvaizdavimas (Matplotlib):**"
      ]
    },
    {
      "cell_type": "markdown",
      "metadata": {
        "id": "_O0q_KBFUD_X",
        "colab_type": "text"
      },
      "source": [
        "**Kaip suformuoti grafiką iš sąrašų:**"
      ]
    },
    {
      "cell_type": "code",
      "metadata": {
        "id": "JSmIZLm-UMT7",
        "colab_type": "code",
        "colab": {}
      },
      "source": [
        "from matplotlib import pyplot as plt\n",
        "\n",
        "metai = [1978, 1988, 1998, 2008, 2018]\n",
        "temperatura = [5.8, 5.9, 6.2, 6.9, 7.2]\n",
        "\n",
        "plt.plot(metai, temperatura)\n",
        "plt.show()"
      ],
      "execution_count": 0,
      "outputs": []
    },
    {
      "cell_type": "markdown",
      "metadata": {
        "id": "vJEJzVUMUVav",
        "colab_type": "text"
      },
      "source": [
        "**Kaip apipavidalinti grafiką:**"
      ]
    },
    {
      "cell_type": "code",
      "metadata": {
        "id": "CALN9-U8UW0q",
        "colab_type": "code",
        "colab": {}
      },
      "source": [
        "from matplotlib import pyplot as plt\n",
        "\n",
        "metai = [1978, 1988, 1998, 2008, 2018]\n",
        "temperatura = [5.8, 5.9, 6.2, 6.9, 7.2]\n",
        "\n",
        "plt.title(\"Vidutinė temperatūra\")\n",
        "plt.xlabel(\"Metai\")\n",
        "plt.ylabel(\"Laipsniai (Celcijaus)\")\n",
        "\n",
        "plt.plot(metai, temperatura)\n",
        "plt.show()"
      ],
      "execution_count": 0,
      "outputs": []
    },
    {
      "cell_type": "markdown",
      "metadata": {
        "id": "BmuLTslSUe6o",
        "colab_type": "text"
      },
      "source": [
        "**Kaip pridėti papildomą kreivę:**"
      ]
    },
    {
      "cell_type": "code",
      "metadata": {
        "id": "grQZq-xMUhPO",
        "colab_type": "code",
        "colab": {}
      },
      "source": [
        "from matplotlib import pyplot as plt\n",
        "\n",
        "metai = [1978, 1988, 1998, 2008, 2018]\n",
        "temperatura = [5.8, 5.9, 6.2, 6.9, 7.2]\n",
        "ispanija = [15.8, 15.9, 16.2, 16.9, 17.2]\n",
        "\n",
        "plt.title(\"Vidutinė temperatūra\")\n",
        "plt.xlabel(\"Metai\")\n",
        "plt.ylabel(\"Laipsniai (Celcijaus)\")\n",
        "\n",
        "plt.plot(metai, temperatura)\n",
        "plt.plot(metai, ispanija)\n",
        "plt.show()"
      ],
      "execution_count": 0,
      "outputs": []
    },
    {
      "cell_type": "markdown",
      "metadata": {
        "id": "_-Art1QMUpIO",
        "colab_type": "text"
      },
      "source": [
        "**Kaip įvardinti kreives:**"
      ]
    },
    {
      "cell_type": "code",
      "metadata": {
        "id": "q2dNG9WMUtC1",
        "colab_type": "code",
        "colab": {}
      },
      "source": [
        "from matplotlib import pyplot as plt\n",
        "\n",
        "metai = [1978, 1988, 1998, 2008, 2018]\n",
        "temperatura = [5.8, 5.9, 6.2, 6.9, 7.2]\n",
        "ispanija = [15.8, 15.9, 16.2, 16.9, 17.2]\n",
        "\n",
        "plt.title(\"Vidutinė temperatūra\")\n",
        "plt.xlabel(\"Metai\")\n",
        "plt.ylabel(\"Laipsniai (Celcijaus)\")\n",
        "\n",
        "plt.plot(metai, temperatura)\n",
        "plt.plot(metai, ispanija)\n",
        "plt.legend([\"Vilnius\", \"Ispanija\"])\n",
        "plt.show()"
      ],
      "execution_count": 0,
      "outputs": []
    },
    {
      "cell_type": "markdown",
      "metadata": {
        "id": "2PI3ubhnU1UI",
        "colab_type": "text"
      },
      "source": [
        "**Kaip atspausdinti grafiką iš Pandas duomenų paketo:**"
      ]
    },
    {
      "cell_type": "code",
      "metadata": {
        "id": "VwmqujpOU22b",
        "colab_type": "code",
        "colab": {}
      },
      "source": [
        "import pandas as pd\n",
        "from matplotlib import pyplot as plt\n",
        "\n",
        "orai = {\n",
        "'data': ['7/1/2019', '7/2/2019',\n",
        "'7/3/2019','7/4/2019','7/5/2019'],\n",
        "'temperatura': [32, 35, 28, 24, 22],\n",
        "'vejas': [6,7,2,4,5],\n",
        "'oras': ['Lietus', 'Saulėta',\n",
        "'Saulėta','Saulėta','Debesuota']}\n",
        "\n",
        "df = pd.DataFrame(orai)\n",
        "\n",
        "plt.plot(df.data, df.temperatura)\n",
        "plt.show()"
      ],
      "execution_count": 0,
      "outputs": []
    },
    {
      "cell_type": "markdown",
      "metadata": {
        "id": "0eDaCD4GU-dN",
        "colab_type": "text"
      },
      "source": [
        "**Kitokio tipo grafikas:**"
      ]
    },
    {
      "cell_type": "code",
      "metadata": {
        "id": "1dWyyPZZU_pb",
        "colab_type": "code",
        "colab": {}
      },
      "source": [
        "plt.plot(df.data, df.temperatura, \"o\")"
      ],
      "execution_count": 0,
      "outputs": []
    },
    {
      "cell_type": "markdown",
      "metadata": {
        "id": "5fLe0WTbVEH4",
        "colab_type": "text"
      },
      "source": [
        "**Kaip atspausdinti grafiką iš atrinkto duomenų paketo:**"
      ]
    },
    {
      "cell_type": "code",
      "metadata": {
        "id": "UiUMLAfEVhM-",
        "colab_type": "code",
        "colab": {}
      },
      "source": [
        "import pandas as pd\n",
        "\n",
        "data = pd.read_csv('countries.csv')\n",
        "\n",
        "data"
      ],
      "execution_count": 0,
      "outputs": []
    },
    {
      "cell_type": "code",
      "metadata": {
        "id": "9RUt8mNKVFTx",
        "colab_type": "code",
        "colab": {}
      },
      "source": [
        "import pandas as pd\n",
        "from matplotlib import pyplot as plt\n",
        "\n",
        "data = pd.read_csv('countries.csv')\n",
        "# iš https://www.csdojo.io/data\n",
        "\n",
        "us = data[data.country == 'United States']\n",
        "china = data[data.country == 'China']\n",
        "\n",
        "plt.plot(us.year, us.population / 10**6)\n",
        "plt.plot(china.year, china.population / 10**6)\n",
        "plt.legend(['JAV', 'Kinija'])\n",
        "plt.xlabel('Metai')\n",
        "plt.ylabel('Populiacija (mln.)')\n",
        "plt.show()"
      ],
      "execution_count": 0,
      "outputs": []
    },
    {
      "cell_type": "code",
      "metadata": {
        "id": "BQ5G49SdVumO",
        "colab_type": "code",
        "colab": {}
      },
      "source": [
        "import pandas as pd\n",
        "from matplotlib import pyplot as plt\n",
        "\n",
        "data = pd.read_csv('countries.csv')\n",
        "\n",
        "us = data[data.country == 'United States']\n",
        "china = data[data.country == 'China']\n",
        "\n",
        "plt.plot(us.year, us.population/us.population.iloc[0] * 100)\n",
        "plt.plot(china.year, china.population/\n",
        "china.population.iloc[0] * 100)\n",
        "plt.legend(['USA', 'China'])\n",
        "plt.xlabel('Metai')\n",
        "plt.ylabel('Populiacijos kilimas (pirmi metai = 100 proc.)')\n",
        "plt.show()"
      ],
      "execution_count": 0,
      "outputs": []
    },
    {
      "cell_type": "markdown",
      "metadata": {
        "id": "O6xkT5aiW_gd",
        "colab_type": "text"
      },
      "source": [
        "**Užduotys:**"
      ]
    },
    {
      "cell_type": "markdown",
      "metadata": {
        "id": "MGtYlUz-ZJ-z",
        "colab_type": "text"
      },
      "source": [
        "1 užduotis"
      ]
    },
    {
      "cell_type": "markdown",
      "metadata": {
        "id": "isM6Hn2YXBcD",
        "colab_type": "text"
      },
      "source": [
        "1.   Parsisiųsti countries.csv failą iš https://www.csdojo.io/data\n",
        "2.   Susikurti iš jo duomenų paketą (Pandas DataFrame)\n",
        "3.   Atspausdinti tik metų stulpelį\n",
        "4.   Atspausdinti norimos šalies didžiausius/mažiausius/vidutinius gyventojų kiekius\n",
        "5.   Atspausdinti bendrą lentelės ataskaitą\n",
        "6.   Grafike atvaizduoti kelių skirtingų šalių populiacijos pokytį per metus\n",
        "7.   Padaryti, kad grafikas turėtų pavadinimą, būtų įvardintos x/y ašys bei kreivės"
      ]
    },
    {
      "cell_type": "markdown",
      "metadata": {
        "id": "-PnWC4a-Yf9B",
        "colab_type": "text"
      },
      "source": [
        "2 užduotis:"
      ]
    },
    {
      "cell_type": "markdown",
      "metadata": {
        "id": "QWJucfHaYjV4",
        "colab_type": "text"
      },
      "source": [
        "Į Pandas DataFrame įdėkite duomenų bazę darbuotojai3.db ir savo nuožiūra išbandykite šioje paskaitoje pateiktas Pandas galimybes."
      ]
    }
  ]
}