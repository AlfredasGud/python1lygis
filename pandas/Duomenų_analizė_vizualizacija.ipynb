{
  "nbformat": 4,
  "nbformat_minor": 0,
  "metadata": {
    "colab": {
      "name": "Duomenų analizė vizualizacija.ipynb",
      "provenance": [],
      "collapsed_sections": []
    },
    "kernelspec": {
      "name": "python3",
      "display_name": "Python 3"
    }
  },
  "cells": [
    {
      "cell_type": "markdown",
      "metadata": {
        "id": "PktkthmJM0jH",
        "colab_type": "text"
      },
      "source": [
        "**Duomenų analizė (su PANDAS)**"
      ]
    },
    {
      "cell_type": "markdown",
      "metadata": {
        "id": "MmhotYXHM5e9",
        "colab_type": "text"
      },
      "source": [
        "Pandas dirba su duomenų paketais (DataFrame)\n",
        "Duomenų paketus galima susikurti iš (ir išsaugoti į):\n",
        "\n",
        "\n",
        "*   Žodynų\n",
        "*   Excel failų\n",
        "*   .csv failų\n",
        "*   Pickle failų\n",
        "*   Duomenų bazių\n",
        "*   ..."
      ]
    },
    {
      "cell_type": "markdown",
      "metadata": {
        "id": "o2BJ-lEGPs29",
        "colab_type": "text"
      },
      "source": [
        "**Kaip susikurti DataFrame iš tekstinio (csv) failo:**"
      ]
    },
    {
      "cell_type": "code",
      "metadata": {
        "id": "p6wft6z_Pwh5",
        "colab_type": "code",
        "colab": {
          "base_uri": "https://localhost:8080/",
          "height": 260
        },
        "outputId": "62dd0242-6d89-4c7d-d5bf-3c55f308fc2f"
      },
      "source": [
        "import pandas as pd\n",
        "\n",
        "df = pd.read_csv('countries.csv', delimiter='\\t')\n",
        "\n",
        "print(df)"
      ],
      "execution_count": 51,
      "outputs": [
        {
          "output_type": "stream",
          "text": [
            "        country,year,population\n",
            "0      Afghanistan,1952,8425333\n",
            "1      Afghanistan,1957,9240934\n",
            "2     Afghanistan,1962,10267083\n",
            "3     Afghanistan,1967,11537966\n",
            "4     Afghanistan,1972,13079460\n",
            "...                         ...\n",
            "1699      Zimbabwe,1987,9216418\n",
            "1700     Zimbabwe,1992,10704340\n",
            "1701     Zimbabwe,1997,11404948\n",
            "1702     Zimbabwe,2002,11926563\n",
            "1703     Zimbabwe,2007,12311143\n",
            "\n",
            "[1704 rows x 1 columns]\n"
          ],
          "name": "stdout"
        }
      ]
    },
    {
      "cell_type": "markdown",
      "metadata": {
        "id": "CbryyS81P1Ku",
        "colab_type": "text"
      },
      "source": [
        "**Kaip susikurti DataFrame iš duomenų bazės:**"
      ]
    },
    {
      "cell_type": "code",
      "metadata": {
        "id": "jJqHynp5P2Sr",
        "colab_type": "code",
        "colab": {
          "base_uri": "https://localhost:8080/",
          "height": 1000
        },
        "outputId": "e7de7457-2eab-4432-9ef0-888aa6c1e09e"
      },
      "source": [
        "import pandas as pd\n",
        "from sqlalchemy import create_engine\n",
        "\n",
        "engine = create_engine('sqlite:///darbuotojai3.db')\n",
        "df = pd.read_sql_table(\"DARBUOTOJAS\", engine)\n",
        "\n",
        "df"
      ],
      "execution_count": 22,
      "outputs": [
        {
          "output_type": "execute_result",
          "data": {
            "text/html": [
              "<div>\n",
              "<style scoped>\n",
              "    .dataframe tbody tr th:only-of-type {\n",
              "        vertical-align: middle;\n",
              "    }\n",
              "\n",
              "    .dataframe tbody tr th {\n",
              "        vertical-align: top;\n",
              "    }\n",
              "\n",
              "    .dataframe thead th {\n",
              "        text-align: right;\n",
              "    }\n",
              "</style>\n",
              "<table border=\"1\" class=\"dataframe\">\n",
              "  <thead>\n",
              "    <tr style=\"text-align: right;\">\n",
              "      <th></th>\n",
              "      <th>ID</th>\n",
              "      <th>VARDAS</th>\n",
              "      <th>PAVARDĖ</th>\n",
              "      <th>ASMENS_KODAS</th>\n",
              "      <th>PAREIGOS</th>\n",
              "      <th>DIRBA_NUO</th>\n",
              "      <th>BAZINIS_ATLYGINIMAS</th>\n",
              "      <th>PRIEDAI</th>\n",
              "      <th>SKYRIUS_ID</th>\n",
              "      <th>PROJEKTAS_ID</th>\n",
              "    </tr>\n",
              "  </thead>\n",
              "  <tbody>\n",
              "    <tr>\n",
              "      <th>0</th>\n",
              "      <td>1</td>\n",
              "      <td>Martynas</td>\n",
              "      <td>Jačas</td>\n",
              "      <td>38009200000</td>\n",
              "      <td>Programuotojas</td>\n",
              "      <td>2011-02-02</td>\n",
              "      <td>2000.0</td>\n",
              "      <td>0.0</td>\n",
              "      <td>2.0</td>\n",
              "      <td>1.0</td>\n",
              "    </tr>\n",
              "    <tr>\n",
              "      <th>1</th>\n",
              "      <td>2</td>\n",
              "      <td>Goda</td>\n",
              "      <td>Jablonkskaitė</td>\n",
              "      <td>48602110000</td>\n",
              "      <td>Vadybininkas</td>\n",
              "      <td>2009-04-06</td>\n",
              "      <td>1800.0</td>\n",
              "      <td>700.0</td>\n",
              "      <td>3.0</td>\n",
              "      <td>2.0</td>\n",
              "    </tr>\n",
              "    <tr>\n",
              "      <th>2</th>\n",
              "      <td>3</td>\n",
              "      <td>Mantas</td>\n",
              "      <td>Gabalis</td>\n",
              "      <td>39008200000</td>\n",
              "      <td>Testuotojas</td>\n",
              "      <td>2012-12-15</td>\n",
              "      <td>1400.0</td>\n",
              "      <td>200.0</td>\n",
              "      <td>2.0</td>\n",
              "      <td>1.0</td>\n",
              "    </tr>\n",
              "    <tr>\n",
              "      <th>3</th>\n",
              "      <td>4</td>\n",
              "      <td>Arnoldas</td>\n",
              "      <td>Lukas</td>\n",
              "      <td>39402130000</td>\n",
              "      <td>Programuotojas</td>\n",
              "      <td>2002-02-30</td>\n",
              "      <td>2200.0</td>\n",
              "      <td>0.0</td>\n",
              "      <td>2.0</td>\n",
              "      <td>2.0</td>\n",
              "    </tr>\n",
              "    <tr>\n",
              "      <th>4</th>\n",
              "      <td>5</td>\n",
              "      <td>Maja</td>\n",
              "      <td>Jačiulytė</td>\n",
              "      <td>49803120000</td>\n",
              "      <td>Buhalterė</td>\n",
              "      <td>2015-11-30</td>\n",
              "      <td>1400.0</td>\n",
              "      <td>200.0</td>\n",
              "      <td>1.0</td>\n",
              "      <td>3.0</td>\n",
              "    </tr>\n",
              "    <tr>\n",
              "      <th>5</th>\n",
              "      <td>6</td>\n",
              "      <td>Mikas</td>\n",
              "      <td>Taileikis</td>\n",
              "      <td>50004230000</td>\n",
              "      <td>Programuotojas</td>\n",
              "      <td>2008-05-25</td>\n",
              "      <td>1650.0</td>\n",
              "      <td>100.0</td>\n",
              "      <td>2.0</td>\n",
              "      <td>4.0</td>\n",
              "    </tr>\n",
              "    <tr>\n",
              "      <th>6</th>\n",
              "      <td>7</td>\n",
              "      <td>Giedrius</td>\n",
              "      <td>Vaicekauskas</td>\n",
              "      <td>38605300000</td>\n",
              "      <td>Vadovas</td>\n",
              "      <td>2010-07-30</td>\n",
              "      <td>3500.0</td>\n",
              "      <td>1000.0</td>\n",
              "      <td>4.0</td>\n",
              "      <td>5.0</td>\n",
              "    </tr>\n",
              "    <tr>\n",
              "      <th>7</th>\n",
              "      <td>8</td>\n",
              "      <td>Romas</td>\n",
              "      <td>Babavičius</td>\n",
              "      <td>38609190000</td>\n",
              "      <td>Finansininkas</td>\n",
              "      <td>2011-09-30</td>\n",
              "      <td>2000.0</td>\n",
              "      <td>0.0</td>\n",
              "      <td>1.0</td>\n",
              "      <td>5.0</td>\n",
              "    </tr>\n",
              "    <tr>\n",
              "      <th>8</th>\n",
              "      <td>9</td>\n",
              "      <td>Milda</td>\n",
              "      <td>Babavičiūtė</td>\n",
              "      <td>48609190000</td>\n",
              "      <td>Testuotojas</td>\n",
              "      <td>2010-07-15</td>\n",
              "      <td>1300.0</td>\n",
              "      <td>200.0</td>\n",
              "      <td>2.0</td>\n",
              "      <td>2.0</td>\n",
              "    </tr>\n",
              "    <tr>\n",
              "      <th>9</th>\n",
              "      <td>10</td>\n",
              "      <td>Domas</td>\n",
              "      <td>Sabaliauskas</td>\n",
              "      <td>39903130000</td>\n",
              "      <td>Testuotojas</td>\n",
              "      <td>2016-08-15</td>\n",
              "      <td>1200.0</td>\n",
              "      <td>200.0</td>\n",
              "      <td>2.0</td>\n",
              "      <td>2.0</td>\n",
              "    </tr>\n",
              "    <tr>\n",
              "      <th>10</th>\n",
              "      <td>11</td>\n",
              "      <td>Dainius</td>\n",
              "      <td>Sabutis</td>\n",
              "      <td>39806230000</td>\n",
              "      <td>Vadybininkas</td>\n",
              "      <td>2018-12-12</td>\n",
              "      <td>1000.0</td>\n",
              "      <td>1000.0</td>\n",
              "      <td>3.0</td>\n",
              "      <td>2.0</td>\n",
              "    </tr>\n",
              "    <tr>\n",
              "      <th>11</th>\n",
              "      <td>12</td>\n",
              "      <td>Tautvydas</td>\n",
              "      <td>Ubartas</td>\n",
              "      <td>38005300000</td>\n",
              "      <td>Programuotojas</td>\n",
              "      <td>2017-06-06</td>\n",
              "      <td>1750.0</td>\n",
              "      <td>0.0</td>\n",
              "      <td>2.0</td>\n",
              "      <td>3.0</td>\n",
              "    </tr>\n",
              "    <tr>\n",
              "      <th>12</th>\n",
              "      <td>13</td>\n",
              "      <td>Henrikas</td>\n",
              "      <td>Sabutis</td>\n",
              "      <td>39402020000</td>\n",
              "      <td>Vadybininkas</td>\n",
              "      <td>2018-02-02</td>\n",
              "      <td>1100.0</td>\n",
              "      <td>700.0</td>\n",
              "      <td>3.0</td>\n",
              "      <td>3.0</td>\n",
              "    </tr>\n",
              "    <tr>\n",
              "      <th>13</th>\n",
              "      <td>14</td>\n",
              "      <td>Arnoldas</td>\n",
              "      <td>Jačas</td>\n",
              "      <td>38506300000</td>\n",
              "      <td>Programuotojas</td>\n",
              "      <td>2014-03-03</td>\n",
              "      <td>1950.0</td>\n",
              "      <td>200.0</td>\n",
              "      <td>2.0</td>\n",
              "      <td>2.0</td>\n",
              "    </tr>\n",
              "    <tr>\n",
              "      <th>14</th>\n",
              "      <td>15</td>\n",
              "      <td>Jaunius</td>\n",
              "      <td>Šindeikis</td>\n",
              "      <td>38803120000</td>\n",
              "      <td>Vadovas</td>\n",
              "      <td>2014-06-08</td>\n",
              "      <td>5000.0</td>\n",
              "      <td>0.0</td>\n",
              "      <td>2.0</td>\n",
              "      <td>1.0</td>\n",
              "    </tr>\n",
              "    <tr>\n",
              "      <th>15</th>\n",
              "      <td>16</td>\n",
              "      <td>Rimantas</td>\n",
              "      <td>Kundrotas</td>\n",
              "      <td>38711120000</td>\n",
              "      <td>Programuotojas</td>\n",
              "      <td>2017-02-02</td>\n",
              "      <td>2000.0</td>\n",
              "      <td>0.0</td>\n",
              "      <td>2.0</td>\n",
              "      <td>3.0</td>\n",
              "    </tr>\n",
              "    <tr>\n",
              "      <th>16</th>\n",
              "      <td>17</td>\n",
              "      <td>Egidijus</td>\n",
              "      <td>Antanaitis</td>\n",
              "      <td>39002130000</td>\n",
              "      <td>Testuotojas</td>\n",
              "      <td>2011-02-03</td>\n",
              "      <td>1500.0</td>\n",
              "      <td>300.0</td>\n",
              "      <td>2.0</td>\n",
              "      <td>4.0</td>\n",
              "    </tr>\n",
              "    <tr>\n",
              "      <th>17</th>\n",
              "      <td>18</td>\n",
              "      <td>Lukas</td>\n",
              "      <td>Antanaitis</td>\n",
              "      <td>38809130000</td>\n",
              "      <td>Testuotojas</td>\n",
              "      <td>2011-12-02</td>\n",
              "      <td>1500.0</td>\n",
              "      <td>300.0</td>\n",
              "      <td>2.0</td>\n",
              "      <td>4.0</td>\n",
              "    </tr>\n",
              "    <tr>\n",
              "      <th>18</th>\n",
              "      <td>19</td>\n",
              "      <td>Arnas</td>\n",
              "      <td>Lukša</td>\n",
              "      <td>38807200000</td>\n",
              "      <td>None</td>\n",
              "      <td>2009-11-15</td>\n",
              "      <td>NaN</td>\n",
              "      <td>NaN</td>\n",
              "      <td>NaN</td>\n",
              "      <td>5.0</td>\n",
              "    </tr>\n",
              "    <tr>\n",
              "      <th>19</th>\n",
              "      <td>20</td>\n",
              "      <td>Urtė</td>\n",
              "      <td>Lukaitė</td>\n",
              "      <td>60202020000</td>\n",
              "      <td>None</td>\n",
              "      <td>2005-02-02</td>\n",
              "      <td>NaN</td>\n",
              "      <td>NaN</td>\n",
              "      <td>NaN</td>\n",
              "      <td>NaN</td>\n",
              "    </tr>\n",
              "  </tbody>\n",
              "</table>\n",
              "</div>"
            ],
            "text/plain": [
              "    ID     VARDAS        PAVARDĖ  ... PRIEDAI SKYRIUS_ID PROJEKTAS_ID\n",
              "0    1   Martynas          Jačas  ...     0.0        2.0          1.0\n",
              "1    2       Goda  Jablonkskaitė  ...   700.0        3.0          2.0\n",
              "2    3     Mantas        Gabalis  ...   200.0        2.0          1.0\n",
              "3    4   Arnoldas          Lukas  ...     0.0        2.0          2.0\n",
              "4    5       Maja      Jačiulytė  ...   200.0        1.0          3.0\n",
              "5    6      Mikas      Taileikis  ...   100.0        2.0          4.0\n",
              "6    7   Giedrius   Vaicekauskas  ...  1000.0        4.0          5.0\n",
              "7    8      Romas     Babavičius  ...     0.0        1.0          5.0\n",
              "8    9      Milda    Babavičiūtė  ...   200.0        2.0          2.0\n",
              "9   10      Domas   Sabaliauskas  ...   200.0        2.0          2.0\n",
              "10  11    Dainius        Sabutis  ...  1000.0        3.0          2.0\n",
              "11  12  Tautvydas        Ubartas  ...     0.0        2.0          3.0\n",
              "12  13   Henrikas        Sabutis  ...   700.0        3.0          3.0\n",
              "13  14   Arnoldas          Jačas  ...   200.0        2.0          2.0\n",
              "14  15    Jaunius      Šindeikis  ...     0.0        2.0          1.0\n",
              "15  16   Rimantas      Kundrotas  ...     0.0        2.0          3.0\n",
              "16  17   Egidijus     Antanaitis  ...   300.0        2.0          4.0\n",
              "17  18      Lukas     Antanaitis  ...   300.0        2.0          4.0\n",
              "18  19      Arnas          Lukša  ...     NaN        NaN          5.0\n",
              "19  20       Urtė        Lukaitė  ...     NaN        NaN          NaN\n",
              "\n",
              "[20 rows x 10 columns]"
            ]
          },
          "metadata": {
            "tags": []
          },
          "execution_count": 22
        }
      ]
    },
    {
      "cell_type": "markdown",
      "metadata": {
        "id": "_IoTytawRSIx",
        "colab_type": "text"
      },
      "source": [
        "**Kaip sukurti Pandas duomenų paketą (DataFrame) iš žodyno:**"
      ]
    },
    {
      "cell_type": "code",
      "metadata": {
        "id": "_NnT_0KtRT88",
        "colab_type": "code",
        "colab": {
          "base_uri": "https://localhost:8080/",
          "height": 202
        },
        "outputId": "a1f20688-ab5e-415b-d46b-80389bccaf71"
      },
      "source": [
        "import pandas as pd\n",
        "orai = {\n",
        "'data': ['7/1/2019', '7/2/2019',\n",
        "'7/3/2019','7/4/2019','7/5/2019'],\n",
        "'temperatura': [32, 35, 28, 24, 22],\n",
        "'vejas': [6,7,2,4,5],\n",
        "'oras': ['Lietus', 'Saulėta',\n",
        "'Saulėta','Saulėta','Debesuota']\n",
        "}\n",
        "\n",
        "df = pd.DataFrame(orai)\n",
        "df"
      ],
      "execution_count": 30,
      "outputs": [
        {
          "output_type": "execute_result",
          "data": {
            "text/html": [
              "<div>\n",
              "<style scoped>\n",
              "    .dataframe tbody tr th:only-of-type {\n",
              "        vertical-align: middle;\n",
              "    }\n",
              "\n",
              "    .dataframe tbody tr th {\n",
              "        vertical-align: top;\n",
              "    }\n",
              "\n",
              "    .dataframe thead th {\n",
              "        text-align: right;\n",
              "    }\n",
              "</style>\n",
              "<table border=\"1\" class=\"dataframe\">\n",
              "  <thead>\n",
              "    <tr style=\"text-align: right;\">\n",
              "      <th></th>\n",
              "      <th>data</th>\n",
              "      <th>temperatura</th>\n",
              "      <th>vejas</th>\n",
              "      <th>oras</th>\n",
              "    </tr>\n",
              "  </thead>\n",
              "  <tbody>\n",
              "    <tr>\n",
              "      <th>0</th>\n",
              "      <td>7/1/2019</td>\n",
              "      <td>32</td>\n",
              "      <td>6</td>\n",
              "      <td>Lietus</td>\n",
              "    </tr>\n",
              "    <tr>\n",
              "      <th>1</th>\n",
              "      <td>7/2/2019</td>\n",
              "      <td>35</td>\n",
              "      <td>7</td>\n",
              "      <td>Saulėta</td>\n",
              "    </tr>\n",
              "    <tr>\n",
              "      <th>2</th>\n",
              "      <td>7/3/2019</td>\n",
              "      <td>28</td>\n",
              "      <td>2</td>\n",
              "      <td>Saulėta</td>\n",
              "    </tr>\n",
              "    <tr>\n",
              "      <th>3</th>\n",
              "      <td>7/4/2019</td>\n",
              "      <td>24</td>\n",
              "      <td>4</td>\n",
              "      <td>Saulėta</td>\n",
              "    </tr>\n",
              "    <tr>\n",
              "      <th>4</th>\n",
              "      <td>7/5/2019</td>\n",
              "      <td>22</td>\n",
              "      <td>5</td>\n",
              "      <td>Debesuota</td>\n",
              "    </tr>\n",
              "  </tbody>\n",
              "</table>\n",
              "</div>"
            ],
            "text/plain": [
              "       data  temperatura  vejas       oras\n",
              "0  7/1/2019           32      6     Lietus\n",
              "1  7/2/2019           35      7    Saulėta\n",
              "2  7/3/2019           28      2    Saulėta\n",
              "3  7/4/2019           24      4    Saulėta\n",
              "4  7/5/2019           22      5  Debesuota"
            ]
          },
          "metadata": {
            "tags": []
          },
          "execution_count": 30
        }
      ]
    },
    {
      "cell_type": "markdown",
      "metadata": {
        "id": "Fv9YwbZRRbsZ",
        "colab_type": "text"
      },
      "source": [
        "**Kaip atspausdinti lentelės stulpelio max, min, vidurkį:**"
      ]
    },
    {
      "cell_type": "code",
      "metadata": {
        "id": "ixxCiXOoRdhO",
        "colab_type": "code",
        "colab": {
          "base_uri": "https://localhost:8080/",
          "height": 69
        },
        "outputId": "5407ffcc-ed8b-40ff-ef95-f5a1be86f96d"
      },
      "source": [
        "print(df['temperatura'].max())\n",
        "print(df['temperatura'].min())\n",
        "print(df['temperatura'].mean())"
      ],
      "execution_count": 18,
      "outputs": [
        {
          "output_type": "stream",
          "text": [
            "35\n",
            "22\n",
            "28.2\n"
          ],
          "name": "stdout"
        }
      ]
    },
    {
      "cell_type": "markdown",
      "metadata": {
        "id": "kJmyLpDSRiY1",
        "colab_type": "text"
      },
      "source": [
        "**Kaip gauti lentelės dydį:**"
      ]
    },
    {
      "cell_type": "code",
      "metadata": {
        "id": "fRsc0QulRjyZ",
        "colab_type": "code",
        "colab": {
          "base_uri": "https://localhost:8080/",
          "height": 52
        },
        "outputId": "54a49679-d3ee-4763-e9c3-463b8cdbe0b7"
      },
      "source": [
        "print(df.shape)\n",
        "rows, columns = df.shape\n",
        "print(rows)\n",
        "print(columns)"
      ],
      "execution_count": 14,
      "outputs": [
        {
          "output_type": "stream",
          "text": [
            "5\n",
            "4\n"
          ],
          "name": "stdout"
        }
      ]
    },
    {
      "cell_type": "markdown",
      "metadata": {
        "id": "Tpwj0JZDRp8l",
        "colab_type": "text"
      },
      "source": [
        "**Kaip atspausdinti dalį lentelės:**"
      ]
    },
    {
      "cell_type": "markdown",
      "metadata": {
        "id": "taqW5kDrR7hT",
        "colab_type": "text"
      },
      "source": [
        "Pirmos penkios eilutės:"
      ]
    },
    {
      "cell_type": "code",
      "metadata": {
        "id": "Ydl4HA1IRsPv",
        "colab_type": "code",
        "colab": {
          "base_uri": "https://localhost:8080/",
          "height": 202
        },
        "outputId": "c51c5b6e-481b-44b8-cb20-1253479c098e"
      },
      "source": [
        "df.head()"
      ],
      "execution_count": 20,
      "outputs": [
        {
          "output_type": "execute_result",
          "data": {
            "text/html": [
              "<div>\n",
              "<style scoped>\n",
              "    .dataframe tbody tr th:only-of-type {\n",
              "        vertical-align: middle;\n",
              "    }\n",
              "\n",
              "    .dataframe tbody tr th {\n",
              "        vertical-align: top;\n",
              "    }\n",
              "\n",
              "    .dataframe thead th {\n",
              "        text-align: right;\n",
              "    }\n",
              "</style>\n",
              "<table border=\"1\" class=\"dataframe\">\n",
              "  <thead>\n",
              "    <tr style=\"text-align: right;\">\n",
              "      <th></th>\n",
              "      <th>data</th>\n",
              "      <th>temperatura</th>\n",
              "      <th>vejas</th>\n",
              "      <th>oras</th>\n",
              "    </tr>\n",
              "  </thead>\n",
              "  <tbody>\n",
              "    <tr>\n",
              "      <th>0</th>\n",
              "      <td>7/1/2019</td>\n",
              "      <td>32</td>\n",
              "      <td>6</td>\n",
              "      <td>Lietus</td>\n",
              "    </tr>\n",
              "    <tr>\n",
              "      <th>1</th>\n",
              "      <td>7/2/2019</td>\n",
              "      <td>35</td>\n",
              "      <td>7</td>\n",
              "      <td>Saulėta</td>\n",
              "    </tr>\n",
              "    <tr>\n",
              "      <th>2</th>\n",
              "      <td>7/3/2019</td>\n",
              "      <td>28</td>\n",
              "      <td>2</td>\n",
              "      <td>Saulėta</td>\n",
              "    </tr>\n",
              "    <tr>\n",
              "      <th>3</th>\n",
              "      <td>7/4/2019</td>\n",
              "      <td>24</td>\n",
              "      <td>4</td>\n",
              "      <td>Saulėta</td>\n",
              "    </tr>\n",
              "    <tr>\n",
              "      <th>4</th>\n",
              "      <td>7/5/2019</td>\n",
              "      <td>22</td>\n",
              "      <td>5</td>\n",
              "      <td>Debesuota</td>\n",
              "    </tr>\n",
              "  </tbody>\n",
              "</table>\n",
              "</div>"
            ],
            "text/plain": [
              "       data  temperatura  vejas       oras\n",
              "0  7/1/2019           32      6     Lietus\n",
              "1  7/2/2019           35      7    Saulėta\n",
              "2  7/3/2019           28      2    Saulėta\n",
              "3  7/4/2019           24      4    Saulėta\n",
              "4  7/5/2019           22      5  Debesuota"
            ]
          },
          "metadata": {
            "tags": []
          },
          "execution_count": 20
        }
      ]
    },
    {
      "cell_type": "markdown",
      "metadata": {
        "id": "krnBv6KJR_OF",
        "colab_type": "text"
      },
      "source": [
        "Pirmos dvi eilutės:"
      ]
    },
    {
      "cell_type": "code",
      "metadata": {
        "id": "9CDxXyKKRwiu",
        "colab_type": "code",
        "colab": {
          "base_uri": "https://localhost:8080/",
          "height": 110
        },
        "outputId": "4c86d625-9309-452d-c590-dd215bb4b062"
      },
      "source": [
        "df.head(2)"
      ],
      "execution_count": 19,
      "outputs": [
        {
          "output_type": "execute_result",
          "data": {
            "text/html": [
              "<div>\n",
              "<style scoped>\n",
              "    .dataframe tbody tr th:only-of-type {\n",
              "        vertical-align: middle;\n",
              "    }\n",
              "\n",
              "    .dataframe tbody tr th {\n",
              "        vertical-align: top;\n",
              "    }\n",
              "\n",
              "    .dataframe thead th {\n",
              "        text-align: right;\n",
              "    }\n",
              "</style>\n",
              "<table border=\"1\" class=\"dataframe\">\n",
              "  <thead>\n",
              "    <tr style=\"text-align: right;\">\n",
              "      <th></th>\n",
              "      <th>data</th>\n",
              "      <th>temperatura</th>\n",
              "      <th>vejas</th>\n",
              "      <th>oras</th>\n",
              "    </tr>\n",
              "  </thead>\n",
              "  <tbody>\n",
              "    <tr>\n",
              "      <th>0</th>\n",
              "      <td>7/1/2019</td>\n",
              "      <td>32</td>\n",
              "      <td>6</td>\n",
              "      <td>Lietus</td>\n",
              "    </tr>\n",
              "    <tr>\n",
              "      <th>1</th>\n",
              "      <td>7/2/2019</td>\n",
              "      <td>35</td>\n",
              "      <td>7</td>\n",
              "      <td>Saulėta</td>\n",
              "    </tr>\n",
              "  </tbody>\n",
              "</table>\n",
              "</div>"
            ],
            "text/plain": [
              "       data  temperatura  vejas     oras\n",
              "0  7/1/2019           32      6   Lietus\n",
              "1  7/2/2019           35      7  Saulėta"
            ]
          },
          "metadata": {
            "tags": []
          },
          "execution_count": 19
        }
      ]
    },
    {
      "cell_type": "markdown",
      "metadata": {
        "id": "Wdn4j7oqSDP5",
        "colab_type": "text"
      },
      "source": [
        "Paskutinė eilutė:"
      ]
    },
    {
      "cell_type": "code",
      "metadata": {
        "id": "4eQ-2SzjR24O",
        "colab_type": "code",
        "colab": {
          "base_uri": "https://localhost:8080/",
          "height": 52
        },
        "outputId": "a735f2c3-4504-4769-8d2d-0ab7dfa175cb"
      },
      "source": [
        "df.tail(1)"
      ],
      "execution_count": 8,
      "outputs": [
        {
          "output_type": "stream",
          "text": [
            "       data  temperatura  vejas       oras\n",
            "4  7/5/2019           22      5  Debesuota\n"
          ],
          "name": "stdout"
        }
      ]
    },
    {
      "cell_type": "markdown",
      "metadata": {
        "id": "JTYzV1WOSWm4",
        "colab_type": "text"
      },
      "source": [
        "Nuo 1 iki 3 eilutės:"
      ]
    },
    {
      "cell_type": "code",
      "metadata": {
        "id": "jefW7PzPSXaV",
        "colab_type": "code",
        "colab": {
          "base_uri": "https://localhost:8080/",
          "height": 69
        },
        "outputId": "226347ed-b0b8-4d27-d799-ac598bb34fcd"
      },
      "source": [
        "df[1:3]"
      ],
      "execution_count": 9,
      "outputs": [
        {
          "output_type": "stream",
          "text": [
            "       data  temperatura  vejas     oras\n",
            "1  7/2/2019           35      7  Saulėta\n",
            "2  7/3/2019           28      2  Saulėta\n"
          ],
          "name": "stdout"
        }
      ]
    },
    {
      "cell_type": "markdown",
      "metadata": {
        "id": "sG838hgmSaxC",
        "colab_type": "text"
      },
      "source": [
        "Nuo 3 iki paskutinės eilutės:"
      ]
    },
    {
      "cell_type": "code",
      "metadata": {
        "id": "9p5CU9ITSchS",
        "colab_type": "code",
        "colab": {
          "base_uri": "https://localhost:8080/",
          "height": 87
        },
        "outputId": "2e6149ba-afc3-4076-ff60-e70d0cae4956"
      },
      "source": [
        "df[2:]"
      ],
      "execution_count": 10,
      "outputs": [
        {
          "output_type": "stream",
          "text": [
            "       data  temperatura  vejas       oras\n",
            "2  7/3/2019           28      2    Saulėta\n",
            "3  7/4/2019           24      4    Saulėta\n",
            "4  7/5/2019           22      5  Debesuota\n"
          ],
          "name": "stdout"
        }
      ]
    },
    {
      "cell_type": "markdown",
      "metadata": {
        "id": "gJVG0RYCSgR3",
        "colab_type": "text"
      },
      "source": [
        "**Kaip atspausdinti stulpelių pavadinimus:**"
      ]
    },
    {
      "cell_type": "code",
      "metadata": {
        "id": "pqCdi-4aSjS7",
        "colab_type": "code",
        "colab": {
          "base_uri": "https://localhost:8080/",
          "height": 35
        },
        "outputId": "fa17fefc-99ec-4d89-8b37-a1d68e67c5dc"
      },
      "source": [
        "print(df.columns)"
      ],
      "execution_count": 32,
      "outputs": [
        {
          "output_type": "stream",
          "text": [
            "Index(['data', 'temperatura', 'vejas', 'oras'], dtype='object')\n"
          ],
          "name": "stdout"
        }
      ]
    },
    {
      "cell_type": "markdown",
      "metadata": {
        "id": "fEqG3CFBTMTr",
        "colab_type": "text"
      },
      "source": [
        "**Kaip atspausdinti konkretų (-ius) stulpelį (-ius):**"
      ]
    },
    {
      "cell_type": "code",
      "metadata": {
        "id": "IzJSYNZJTOGx",
        "colab_type": "code",
        "colab": {
          "base_uri": "https://localhost:8080/",
          "height": 121
        },
        "outputId": "94e3a63c-567c-407c-aa25-8da5ed0e40f9"
      },
      "source": [
        "df.data"
      ],
      "execution_count": 34,
      "outputs": [
        {
          "output_type": "execute_result",
          "data": {
            "text/plain": [
              "0    7/1/2019\n",
              "1    7/2/2019\n",
              "2    7/3/2019\n",
              "3    7/4/2019\n",
              "4    7/5/2019\n",
              "Name: data, dtype: object"
            ]
          },
          "metadata": {
            "tags": []
          },
          "execution_count": 34
        }
      ]
    },
    {
      "cell_type": "code",
      "metadata": {
        "id": "BlFkjrZMTq9x",
        "colab_type": "code",
        "colab": {
          "base_uri": "https://localhost:8080/",
          "height": 202
        },
        "outputId": "4a5d8d8b-cbe0-40a6-aefa-c7833484a6ad"
      },
      "source": [
        "df[['data', 'temperatura']]"
      ],
      "execution_count": 35,
      "outputs": [
        {
          "output_type": "execute_result",
          "data": {
            "text/html": [
              "<div>\n",
              "<style scoped>\n",
              "    .dataframe tbody tr th:only-of-type {\n",
              "        vertical-align: middle;\n",
              "    }\n",
              "\n",
              "    .dataframe tbody tr th {\n",
              "        vertical-align: top;\n",
              "    }\n",
              "\n",
              "    .dataframe thead th {\n",
              "        text-align: right;\n",
              "    }\n",
              "</style>\n",
              "<table border=\"1\" class=\"dataframe\">\n",
              "  <thead>\n",
              "    <tr style=\"text-align: right;\">\n",
              "      <th></th>\n",
              "      <th>data</th>\n",
              "      <th>temperatura</th>\n",
              "    </tr>\n",
              "  </thead>\n",
              "  <tbody>\n",
              "    <tr>\n",
              "      <th>0</th>\n",
              "      <td>7/1/2019</td>\n",
              "      <td>32</td>\n",
              "    </tr>\n",
              "    <tr>\n",
              "      <th>1</th>\n",
              "      <td>7/2/2019</td>\n",
              "      <td>35</td>\n",
              "    </tr>\n",
              "    <tr>\n",
              "      <th>2</th>\n",
              "      <td>7/3/2019</td>\n",
              "      <td>28</td>\n",
              "    </tr>\n",
              "    <tr>\n",
              "      <th>3</th>\n",
              "      <td>7/4/2019</td>\n",
              "      <td>24</td>\n",
              "    </tr>\n",
              "    <tr>\n",
              "      <th>4</th>\n",
              "      <td>7/5/2019</td>\n",
              "      <td>22</td>\n",
              "    </tr>\n",
              "  </tbody>\n",
              "</table>\n",
              "</div>"
            ],
            "text/plain": [
              "       data  temperatura\n",
              "0  7/1/2019           32\n",
              "1  7/2/2019           35\n",
              "2  7/3/2019           28\n",
              "3  7/4/2019           24\n",
              "4  7/5/2019           22"
            ]
          },
          "metadata": {
            "tags": []
          },
          "execution_count": 35
        }
      ]
    },
    {
      "cell_type": "markdown",
      "metadata": {
        "id": "CvSP-QbjTvi-",
        "colab_type": "text"
      },
      "source": [
        "**Kaip atspausdinti lentelės ataskaitą:**"
      ]
    },
    {
      "cell_type": "code",
      "metadata": {
        "id": "eAz7HR3mTwxV",
        "colab_type": "code",
        "colab": {
          "base_uri": "https://localhost:8080/",
          "height": 294
        },
        "outputId": "03dd5e2e-380b-4f31-90ee-72be4f969464"
      },
      "source": [
        "df.describe()"
      ],
      "execution_count": 37,
      "outputs": [
        {
          "output_type": "execute_result",
          "data": {
            "text/html": [
              "<div>\n",
              "<style scoped>\n",
              "    .dataframe tbody tr th:only-of-type {\n",
              "        vertical-align: middle;\n",
              "    }\n",
              "\n",
              "    .dataframe tbody tr th {\n",
              "        vertical-align: top;\n",
              "    }\n",
              "\n",
              "    .dataframe thead th {\n",
              "        text-align: right;\n",
              "    }\n",
              "</style>\n",
              "<table border=\"1\" class=\"dataframe\">\n",
              "  <thead>\n",
              "    <tr style=\"text-align: right;\">\n",
              "      <th></th>\n",
              "      <th>temperatura</th>\n",
              "      <th>vejas</th>\n",
              "    </tr>\n",
              "  </thead>\n",
              "  <tbody>\n",
              "    <tr>\n",
              "      <th>count</th>\n",
              "      <td>5.000000</td>\n",
              "      <td>5.000000</td>\n",
              "    </tr>\n",
              "    <tr>\n",
              "      <th>mean</th>\n",
              "      <td>28.200000</td>\n",
              "      <td>4.800000</td>\n",
              "    </tr>\n",
              "    <tr>\n",
              "      <th>std</th>\n",
              "      <td>5.403702</td>\n",
              "      <td>1.923538</td>\n",
              "    </tr>\n",
              "    <tr>\n",
              "      <th>min</th>\n",
              "      <td>22.000000</td>\n",
              "      <td>2.000000</td>\n",
              "    </tr>\n",
              "    <tr>\n",
              "      <th>25%</th>\n",
              "      <td>24.000000</td>\n",
              "      <td>4.000000</td>\n",
              "    </tr>\n",
              "    <tr>\n",
              "      <th>50%</th>\n",
              "      <td>28.000000</td>\n",
              "      <td>5.000000</td>\n",
              "    </tr>\n",
              "    <tr>\n",
              "      <th>75%</th>\n",
              "      <td>32.000000</td>\n",
              "      <td>6.000000</td>\n",
              "    </tr>\n",
              "    <tr>\n",
              "      <th>max</th>\n",
              "      <td>35.000000</td>\n",
              "      <td>7.000000</td>\n",
              "    </tr>\n",
              "  </tbody>\n",
              "</table>\n",
              "</div>"
            ],
            "text/plain": [
              "       temperatura     vejas\n",
              "count     5.000000  5.000000\n",
              "mean     28.200000  4.800000\n",
              "std       5.403702  1.923538\n",
              "min      22.000000  2.000000\n",
              "25%      24.000000  4.000000\n",
              "50%      28.000000  5.000000\n",
              "75%      32.000000  6.000000\n",
              "max      35.000000  7.000000"
            ]
          },
          "metadata": {
            "tags": []
          },
          "execution_count": 37
        }
      ]
    },
    {
      "cell_type": "markdown",
      "metadata": {
        "id": "4brQgCczT8Uw",
        "colab_type": "text"
      },
      "source": [
        "**Grafikų atvaizdavimas (Matplotlib):**"
      ]
    },
    {
      "cell_type": "markdown",
      "metadata": {
        "id": "_O0q_KBFUD_X",
        "colab_type": "text"
      },
      "source": [
        "**Kaip suformuoti grafiką iš sąrašų:**"
      ]
    },
    {
      "cell_type": "code",
      "metadata": {
        "id": "JSmIZLm-UMT7",
        "colab_type": "code",
        "colab": {
          "base_uri": "https://localhost:8080/",
          "height": 265
        },
        "outputId": "8345d633-6b9b-425b-97f2-103787cf49de"
      },
      "source": [
        "from matplotlib import pyplot as plt\n",
        "\n",
        "metai = [1978, 1988, 1998, 2008, 2018]\n",
        "temperatura = [5.8, 5.9, 6.2, 6.9, 7.2]\n",
        "\n",
        "plt.plot(metai, temperatura)\n",
        "plt.show()"
      ],
      "execution_count": 39,
      "outputs": [
        {
          "output_type": "display_data",
          "data": {
            "image/png": "[encoded data removed]",
            "text/plain": [
              "<Figure size 432x288 with 1 Axes>"
            ]
          },
          "metadata": {
            "tags": []
          }
        }
      ]
    },
    {
      "cell_type": "markdown",
      "metadata": {
        "id": "vJEJzVUMUVav",
        "colab_type": "text"
      },
      "source": [
        "**Kaip apipavidalinti grafiką:**"
      ]
    },
    {
      "cell_type": "code",
      "metadata": {
        "id": "CALN9-U8UW0q",
        "colab_type": "code",
        "colab": {
          "base_uri": "https://localhost:8080/",
          "height": 295
        },
        "outputId": "4b6a5c20-d265-457f-ff17-e2930d4565e0"
      },
      "source": [
        "from matplotlib import pyplot as plt\n",
        "\n",
        "metai = [1978, 1988, 1998, 2008, 2018]\n",
        "temperatura = [5.8, 5.9, 6.2, 6.9, 7.2]\n",
        "\n",
        "plt.title(\"Vidutinė temperatūra\")\n",
        "plt.xlabel(\"Metai\")\n",
        "plt.ylabel(\"Laipsniai (Celcijaus)\")\n",
        "\n",
        "plt.plot(metai, temperatura)\n",
        "plt.show()"
      ],
      "execution_count": 40,
      "outputs": [
        {
          "output_type": "display_data",
          "data": {
            "image/png": "[encoded data removed]",
            "text/plain": [
              "<Figure size 432x288 with 1 Axes>"
            ]
          },
          "metadata": {
            "tags": []
          }
        }
      ]
    },
    {
      "cell_type": "markdown",
      "metadata": {
        "id": "BmuLTslSUe6o",
        "colab_type": "text"
      },
      "source": [
        "**Kaip pridėti papildomą kreivę:**"
      ]
    },
    {
      "cell_type": "code",
      "metadata": {
        "id": "grQZq-xMUhPO",
        "colab_type": "code",
        "colab": {
          "base_uri": "https://localhost:8080/",
          "height": 295
        },
        "outputId": "131c31cd-e6c5-4164-f9ac-7e267a401ca1"
      },
      "source": [
        "from matplotlib import pyplot as plt\n",
        "\n",
        "metai = [1978, 1988, 1998, 2008, 2018]\n",
        "temperatura = [5.8, 5.9, 6.2, 6.9, 7.2]\n",
        "ispanija = [15.8, 15.9, 16.2, 16.9, 17.2]\n",
        "\n",
        "plt.title(\"Vidutinė temperatūra\")\n",
        "plt.xlabel(\"Metai\")\n",
        "plt.ylabel(\"Laipsniai (Celcijaus)\")\n",
        "\n",
        "plt.plot(metai, temperatura)\n",
        "plt.plot(metai, ispanija)\n",
        "plt.show()"
      ],
      "execution_count": 41,
      "outputs": [
        {
          "output_type": "display_data",
          "data": {
            "image/png": "[encoded data removed]",
            "text/plain": [
              "<Figure size 432x288 with 1 Axes>"
            ]
          },
          "metadata": {
            "tags": []
          }
        }
      ]
    },
    {
      "cell_type": "markdown",
      "metadata": {
        "id": "_-Art1QMUpIO",
        "colab_type": "text"
      },
      "source": [
        "**Kaip įvardinti kreives:**"
      ]
    },
    {
      "cell_type": "code",
      "metadata": {
        "id": "q2dNG9WMUtC1",
        "colab_type": "code",
        "colab": {
          "base_uri": "https://localhost:8080/",
          "height": 295
        },
        "outputId": "76b07498-48dc-45ad-b9f4-39ee0c4be2ec"
      },
      "source": [
        "from matplotlib import pyplot as plt\n",
        "\n",
        "metai = [1978, 1988, 1998, 2008, 2018]\n",
        "temperatura = [5.8, 5.9, 6.2, 6.9, 7.2]\n",
        "ispanija = [15.8, 15.9, 16.2, 16.9, 17.2]\n",
        "\n",
        "plt.title(\"Vidutinė temperatūra\")\n",
        "plt.xlabel(\"Metai\")\n",
        "plt.ylabel(\"Laipsniai (Celcijaus)\")\n",
        "\n",
        "plt.plot(metai, temperatura)\n",
        "plt.plot(metai, ispanija)\n",
        "plt.legend([\"Vilnius\", \"Ispanija\"])\n",
        "plt.show()"
      ],
      "execution_count": 42,
      "outputs": [
        {
          "output_type": "display_data",
          "data": {
            "image/png": "[encoded data removed]",
            "text/plain": [
              "<Figure size 432x288 with 1 Axes>"
            ]
          },
          "metadata": {
            "tags": []
          }
        }
      ]
    },
    {
      "cell_type": "markdown",
      "metadata": {
        "id": "2PI3ubhnU1UI",
        "colab_type": "text"
      },
      "source": [
        "**Kaip atspausdinti grafiką iš Pandas duomenų paketo:**"
      ]
    },
    {
      "cell_type": "code",
      "metadata": {
        "id": "VwmqujpOU22b",
        "colab_type": "code",
        "colab": {
          "base_uri": "https://localhost:8080/",
          "height": 265
        },
        "outputId": "f0ec4bfd-1e35-4e5b-eca8-23633ad87af4"
      },
      "source": [
        "import pandas as pd\n",
        "from matplotlib import pyplot as plt\n",
        "\n",
        "orai = {\n",
        "'data': ['7/1/2019', '7/2/2019',\n",
        "'7/3/2019','7/4/2019','7/5/2019'],\n",
        "'temperatura': [32, 35, 28, 24, 22],\n",
        "'vejas': [6,7,2,4,5],\n",
        "'oras': ['Lietus', 'Saulėta',\n",
        "'Saulėta','Saulėta','Debesuota']}\n",
        "\n",
        "df = pd.DataFrame(orai)\n",
        "\n",
        "plt.plot(df.data, df.temperatura)\n",
        "plt.show()"
      ],
      "execution_count": 43,
      "outputs": [
        {
          "output_type": "display_data",
          "data": {
            "image/png": "[encoded data removed]",
            "text/plain": [
              "<Figure size 432x288 with 1 Axes>"
            ]
          },
          "metadata": {
            "tags": []
          }
        }
      ]
    },
    {
      "cell_type": "markdown",
      "metadata": {
        "id": "0eDaCD4GU-dN",
        "colab_type": "text"
      },
      "source": [
        "**Kitokio tipo grafikas:**"
      ]
    },
    {
      "cell_type": "code",
      "metadata": {
        "id": "1dWyyPZZU_pb",
        "colab_type": "code",
        "colab": {
          "base_uri": "https://localhost:8080/",
          "height": 283
        },
        "outputId": "a830a63f-3e05-4407-c53a-f4576f5544f1"
      },
      "source": [
        "plt.plot(df.data, df.temperatura, \"o\")"
      ],
      "execution_count": 44,
      "outputs": [
        {
          "output_type": "execute_result",
          "data": {
            "text/plain": [
              "[<matplotlib.lines.Line2D at 0x7f5ac1321748>]"
            ]
          },
          "metadata": {
            "tags": []
          },
          "execution_count": 44
        },
        {
          "output_type": "display_data",
          "data": {
            "image/png": "[encoded data removed]",
            "text/plain": [
              "<Figure size 432x288 with 1 Axes>"
            ]
          },
          "metadata": {
            "tags": []
          }
        }
      ]
    },
    {
      "cell_type": "markdown",
      "metadata": {
        "id": "5fLe0WTbVEH4",
        "colab_type": "text"
      },
      "source": [
        "**Kaip atspausdinti grafiką iš atrinkto duomenų paketo:**"
      ]
    },
    {
      "cell_type": "code",
      "metadata": {
        "id": "UiUMLAfEVhM-",
        "colab_type": "code",
        "colab": {
          "base_uri": "https://localhost:8080/",
          "height": 415
        },
        "outputId": "58fdfa46-a628-468f-f346-ba8b9ae5f332"
      },
      "source": [
        "import pandas as pd\n",
        "\n",
        "data = pd.read_csv('countries.csv')\n",
        "\n",
        "data"
      ],
      "execution_count": 48,
      "outputs": [
        {
          "output_type": "execute_result",
          "data": {
            "text/html": [
              "<div>\n",
              "<style scoped>\n",
              "    .dataframe tbody tr th:only-of-type {\n",
              "        vertical-align: middle;\n",
              "    }\n",
              "\n",
              "    .dataframe tbody tr th {\n",
              "        vertical-align: top;\n",
              "    }\n",
              "\n",
              "    .dataframe thead th {\n",
              "        text-align: right;\n",
              "    }\n",
              "</style>\n",
              "<table border=\"1\" class=\"dataframe\">\n",
              "  <thead>\n",
              "    <tr style=\"text-align: right;\">\n",
              "      <th></th>\n",
              "      <th>country</th>\n",
              "      <th>year</th>\n",
              "      <th>population</th>\n",
              "    </tr>\n",
              "  </thead>\n",
              "  <tbody>\n",
              "    <tr>\n",
              "      <th>0</th>\n",
              "      <td>Afghanistan</td>\n",
              "      <td>1952</td>\n",
              "      <td>8425333</td>\n",
              "    </tr>\n",
              "    <tr>\n",
              "      <th>1</th>\n",
              "      <td>Afghanistan</td>\n",
              "      <td>1957</td>\n",
              "      <td>9240934</td>\n",
              "    </tr>\n",
              "    <tr>\n",
              "      <th>2</th>\n",
              "      <td>Afghanistan</td>\n",
              "      <td>1962</td>\n",
              "      <td>10267083</td>\n",
              "    </tr>\n",
              "    <tr>\n",
              "      <th>3</th>\n",
              "      <td>Afghanistan</td>\n",
              "      <td>1967</td>\n",
              "      <td>11537966</td>\n",
              "    </tr>\n",
              "    <tr>\n",
              "      <th>4</th>\n",
              "      <td>Afghanistan</td>\n",
              "      <td>1972</td>\n",
              "      <td>13079460</td>\n",
              "    </tr>\n",
              "    <tr>\n",
              "      <th>...</th>\n",
              "      <td>...</td>\n",
              "      <td>...</td>\n",
              "      <td>...</td>\n",
              "    </tr>\n",
              "    <tr>\n",
              "      <th>1699</th>\n",
              "      <td>Zimbabwe</td>\n",
              "      <td>1987</td>\n",
              "      <td>9216418</td>\n",
              "    </tr>\n",
              "    <tr>\n",
              "      <th>1700</th>\n",
              "      <td>Zimbabwe</td>\n",
              "      <td>1992</td>\n",
              "      <td>10704340</td>\n",
              "    </tr>\n",
              "    <tr>\n",
              "      <th>1701</th>\n",
              "      <td>Zimbabwe</td>\n",
              "      <td>1997</td>\n",
              "      <td>11404948</td>\n",
              "    </tr>\n",
              "    <tr>\n",
              "      <th>1702</th>\n",
              "      <td>Zimbabwe</td>\n",
              "      <td>2002</td>\n",
              "      <td>11926563</td>\n",
              "    </tr>\n",
              "    <tr>\n",
              "      <th>1703</th>\n",
              "      <td>Zimbabwe</td>\n",
              "      <td>2007</td>\n",
              "      <td>12311143</td>\n",
              "    </tr>\n",
              "  </tbody>\n",
              "</table>\n",
              "<p>1704 rows × 3 columns</p>\n",
              "</div>"
            ],
            "text/plain": [
              "          country  year  population\n",
              "0     Afghanistan  1952     8425333\n",
              "1     Afghanistan  1957     9240934\n",
              "2     Afghanistan  1962    10267083\n",
              "3     Afghanistan  1967    11537966\n",
              "4     Afghanistan  1972    13079460\n",
              "...           ...   ...         ...\n",
              "1699     Zimbabwe  1987     9216418\n",
              "1700     Zimbabwe  1992    10704340\n",
              "1701     Zimbabwe  1997    11404948\n",
              "1702     Zimbabwe  2002    11926563\n",
              "1703     Zimbabwe  2007    12311143\n",
              "\n",
              "[1704 rows x 3 columns]"
            ]
          },
          "metadata": {
            "tags": []
          },
          "execution_count": 48
        }
      ]
    },
    {
      "cell_type": "code",
      "metadata": {
        "id": "9RUt8mNKVFTx",
        "colab_type": "code",
        "colab": {
          "base_uri": "https://localhost:8080/",
          "height": 279
        },
        "outputId": "95b4041c-177a-4c09-edf4-670f8e9aa3ac"
      },
      "source": [
        "import pandas as pd\n",
        "from matplotlib import pyplot as plt\n",
        "\n",
        "data = pd.read_csv('countries.csv')\n",
        "# iš https://www.csdojo.io/data\n",
        "\n",
        "us = data[data.country == 'United States']\n",
        "china = data[data.country == 'China']\n",
        "\n",
        "plt.plot(us.year, us.population / 10**6)\n",
        "plt.plot(china.year, china.population / 10**6)\n",
        "plt.legend(['JAV', 'Kinija'])\n",
        "plt.xlabel('Metai')\n",
        "plt.ylabel('Populiacija (mln.)')\n",
        "plt.show()"
      ],
      "execution_count": 49,
      "outputs": [
        {
          "output_type": "display_data",
          "data": {
            "image/png": "[encoded data removed]",
            "text/plain": [
              "<Figure size 432x288 with 1 Axes>"
            ]
          },
          "metadata": {
            "tags": []
          }
        }
      ]
    },
    {
      "cell_type": "code",
      "metadata": {
        "id": "BQ5G49SdVumO",
        "colab_type": "code",
        "colab": {
          "base_uri": "https://localhost:8080/",
          "height": 284
        },
        "outputId": "5669556e-0512-49ff-99af-1384a8f64f43"
      },
      "source": [
        "import pandas as pd\n",
        "from matplotlib import pyplot as plt\n",
        "\n",
        "data = pd.read_csv('countries.csv')\n",
        "\n",
        "us = data[data.country == 'United States']\n",
        "china = data[data.country == 'China']\n",
        "\n",
        "plt.plot(us.year, us.population/us.population.iloc[0] * 100)\n",
        "plt.plot(china.year, china.population/\n",
        "china.population.iloc[0] * 100)\n",
        "plt.legend(['USA', 'China'])\n",
        "plt.xlabel('Metai')\n",
        "plt.ylabel('Populiacijos kilimas (pirmi metai = 100 proc.)')\n",
        "plt.show()"
      ],
      "execution_count": 50,
      "outputs": [
        {
          "output_type": "display_data",
          "data": {
            "image/png": "[encoded data removed]",
            "text/plain": [
              "<Figure size 432x288 with 1 Axes>"
            ]
          },
          "metadata": {
            "tags": []
          }
        }
      ]
    },
    {
      "cell_type": "markdown",
      "metadata": {
        "id": "O6xkT5aiW_gd",
        "colab_type": "text"
      },
      "source": [
        "**Užduotis:**"
      ]
    },
    {
      "cell_type": "markdown",
      "metadata": {
        "id": "isM6Hn2YXBcD",
        "colab_type": "text"
      },
      "source": [
        "1.   Parsisiųsti countries.csv failą iš https://www.csdojo.io/data\n",
        "2.   Susikurti iš jo duomenų paketą (Pandas DataFrame)\n",
        "3.   Atspausdinti tik metų stulpelį\n",
        "4.   Atspausdinti norimos šalies didžiausius/mažiausius/vidutinius gyventojų kiekius\n",
        "5.   Atspausdinti bendrą lentelės ataskaitą\n",
        "6.   Grafike atvaizduoti kelių skirtingų šalių populiacijos pokytį per metus\n",
        "7.   Padaryti, kad grafikas turėtų pavadinimą, būtų įvardintos x/y ašys bei kreivės"
      ]
    }
  ]
}